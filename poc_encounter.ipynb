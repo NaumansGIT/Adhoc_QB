{
 "cells": [
  {
   "cell_type": "code",
   "execution_count": 16,
   "id": "308db6d8",
   "metadata": {},
   "outputs": [],
   "source": [
    "#------------------------ ###\n",
    "# Project QB\n",
    "# Module : POC Encounter\n",
    "# Extract all 'poc encounter' params from input text wrt excel and remove extracted params\n",
    "# -----------------------###\n",
    "\n",
    "import pandas as pd\n",
    "from Modules.For_All.Text_Preprocessing import text_clean"
   ]
  },
  {
   "cell_type": "code",
   "execution_count": 17,
   "id": "74b1c378",
   "metadata": {},
   "outputs": [],
   "source": [
    "#create Triggerword List\n",
    "#--------#\n",
    "\n",
    "df2 = pd.read_excel('Adhoc_QB_CH_POC_Encounter_Entities_31_10_2023.xlsx',sheet_name='Trigger_Words')\n",
    "df2 = df2['TriggerWords']\n",
    "trigger_words_list=[]\n",
    "for word in df2:\n",
    "    word= text_clean(word)\n",
    "    if word not in trigger_words_list:\n",
    "        trigger_words_list.append(word)"
   ]
  },
  {
   "cell_type": "code",
   "execution_count": 18,
   "id": "52f8b4f7",
   "metadata": {},
   "outputs": [],
   "source": [
    "#-----------------------------------------------------\n",
    "# Create 'POCENcounter_Params_Dict' with Preprocessing'\n",
    "#-----------------------------------------------------\n",
    "df_overall = pd.read_excel('Adhoc_QB_CH_POC_Encounter_Entities_31_10_2023.xlsx',sheet_name='Params_Sheet')\n",
    "column_names= df_overall.columns                                               # Get all columns names\n",
    "\n",
    "all_pocencounter_params_dict={}                                      \n",
    "for column in column_names:\n",
    "    df_column=df_overall[column]                                               # get all data from specifice column\n",
    "    df_column= df_column.dropna()                                              # remove N/A field\n",
    "\n",
    "    column_entity_list=[]\n",
    "    for entity in df_column:\n",
    "        clean_entity= text_clean(entity)                                       # clean code using module\n",
    "        if clean_entity:\n",
    "            column_entity_list.append(clean_entity)                            # append in list\n",
    "    column_entity_list= sorted(column_entity_list, key=len, reverse=True)\n",
    "    all_pocencounter_params_dict[column]= column_entity_list"
   ]
  },
  {
   "cell_type": "code",
   "execution_count": 19,
   "id": "f1127456",
   "metadata": {},
   "outputs": [],
   "source": [
    "#==========================================================\n",
    "# Main Function: 'Params Extraction'\n",
    "#==========================================================\n",
    "def pocencounter_extraction(f_text):\n",
    "    f_text= ' '+ f_text +' '\n",
    "    field_status=False\n",
    "        \n",
    "    #--------------------------------------------------\n",
    "    # set 'field_status' True if 'poc emcounter' trigger word mentioned in query\n",
    "    #--------------------------------------------------\n",
    "    for trigger_word in trigger_words_list:                         \n",
    "        trigger_word= ' '+trigger_word+' '\n",
    "        if trigger_word in f_text:\n",
    "            field_status=True \n",
    "     \n",
    "\n",
    "    #--------------------------------------------------\n",
    "    # Extract params from text using excel_sheet_dict\n",
    "    #--------------------------------------------------\n",
    "    pocencounter_params_dict={}                                                   # 'final dict' to save result\n",
    "    for field_name_key,param_field_list_value in all_pocencounter_params_dict.items():\n",
    "        if field_name_key in ['POCENCOUNTER CODE','POCENCOUNTER DISPLAYNAME','POCECNOUNTER SOURCE']:\n",
    "            if field_status == False:\n",
    "                continue                                                   # skip current loop cycle\n",
    "\n",
    "        extracted_param_list=[]\n",
    "        for param in param_field_list_value:\n",
    "            start_index = f_text.find(' '+str(param)+' ')                  # find the index of param in text\n",
    "            if start_index != -1: \n",
    "                end_index = start_index + len(param)                       # index of the last occurrence of the string in the text\n",
    "                param_name = f_text[start_index:end_index+1]               # pick words using start & end index\n",
    "                param_name=\" \".join(param_name.split())                    # remove extra spaces in selected data\n",
    "                extracted_param_list.append(param_name)                    # append extracted param in list using current key,value of length_dict\n",
    "                f_text= f_text.replace(' '+param+' ',' ')\n",
    "        if extracted_param_list:                                           # check: if list is not empty\n",
    "            try:\n",
    "                pocencounter_params_dict[field_name_key].extend(extracted_param_list)\n",
    "            except:\n",
    "                pocencounter_params_dict[field_name_key]= extracted_param_list\n",
    "\n",
    "    return [pocencounter_params_dict,f_text]"
   ]
  },
  {
   "cell_type": "code",
   "execution_count": 21,
   "id": "678213cc",
   "metadata": {},
   "outputs": [
    {
     "name": "stdout",
     "output_type": "stream",
     "text": [
      "\n",
      " {'POCENCOUNTER CODE': ['provision of care encounter code'], 'POCECNOUNTER SOURCE': ['poc source']}\n",
      "\n",
      "  show me all the patients who had a and the was externa ehr \n"
     ]
    }
   ],
   "source": [
    "\n",
    "text= \"Show me all the patients who had a provision of care encounter code and the poc source was externa ehr\"\n",
    "clean_text= text_clean(text)\n",
    "result= pocencounter_extraction(clean_text)\n",
    "print('\\n',result[0])\n",
    "print('\\n',result[1])\n"
   ]
  },
  {
   "cell_type": "code",
   "execution_count": null,
   "id": "f3bccf33",
   "metadata": {},
   "outputs": [],
   "source": []
  }
 ],
 "metadata": {
  "kernelspec": {
   "display_name": "Python 3 (ipykernel)",
   "language": "python",
   "name": "python3"
  },
  "language_info": {
   "codemirror_mode": {
    "name": "ipython",
    "version": 3
   },
   "file_extension": ".py",
   "mimetype": "text/x-python",
   "name": "python",
   "nbconvert_exporter": "python",
   "pygments_lexer": "ipython3",
   "version": "3.10.9"
  }
 },
 "nbformat": 4,
 "nbformat_minor": 5
}
